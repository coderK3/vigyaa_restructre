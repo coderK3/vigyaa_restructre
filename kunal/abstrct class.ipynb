{
 "cells": [
  {
   "cell_type": "code",
   "execution_count": 4,
   "metadata": {},
   "outputs": [],
   "source": [
    "from typing import Optional\n",
    "from abc import ABC, abstractmethod, ABCMeta"
   ]
  },
  {
   "cell_type": "code",
   "execution_count": 84,
   "metadata": {},
   "outputs": [],
   "source": [
    "class Homeviewplatform(ABC):\n",
    "    __metaclass__ = ABCMeta\n",
    "    \n",
    "    @abstractmethod\n",
    "    def popular(self):\n",
    "        pass\n",
    "    @abstractmethod\n",
    "    def featured(self):\n",
    "        pass\n",
    "    @abstractmethod\n",
    "    def promoted(self):\n",
    "        pass\n",
    "    @abstractmethod\n",
    "    def catagory(self):\n",
    "        pass\n",
    "    "
   ]
  },
  {
   "cell_type": "code",
   "execution_count": 106,
   "metadata": {},
   "outputs": [],
   "source": [
    "class HomeView(Homeviewplatform):\n",
    "    x = 1\n",
    "    def popular(self):\n",
    "        self.x = 1\n",
    "        print('%s)popular'%self.x)\n",
    "    def featured(self):\n",
    "        self.x += 1 \n",
    "        print('%s)featured'%self.x)\n",
    "    def promoted(self):\n",
    "        self.x += 1 \n",
    "        print('%s)promoted'%self.x)\n",
    "    def catagory(self):\n",
    "        self.x += 1 \n",
    "        print('%s)catagory'%self.x)"
   ]
  },
  {
   "cell_type": "code",
   "execution_count": 107,
   "metadata": {},
   "outputs": [],
   "source": [
    "x = HomeView()"
   ]
  },
  {
   "cell_type": "code",
   "execution_count": 108,
   "metadata": {},
   "outputs": [
    {
     "name": "stdout",
     "output_type": "stream",
     "text": [
      "1)popular\n"
     ]
    }
   ],
   "source": [
    "x.popular()"
   ]
  },
  {
   "cell_type": "code",
   "execution_count": 109,
   "metadata": {},
   "outputs": [
    {
     "name": "stdout",
     "output_type": "stream",
     "text": [
      "2)featured\n"
     ]
    }
   ],
   "source": [
    "x.featured()"
   ]
  },
  {
   "cell_type": "code",
   "execution_count": 110,
   "metadata": {},
   "outputs": [
    {
     "name": "stdout",
     "output_type": "stream",
     "text": [
      "3)promoted\n"
     ]
    }
   ],
   "source": [
    "x.promoted()"
   ]
  },
  {
   "cell_type": "code",
   "execution_count": 111,
   "metadata": {},
   "outputs": [
    {
     "name": "stdout",
     "output_type": "stream",
     "text": [
      "4)catagory\n"
     ]
    }
   ],
   "source": [
    "x.catagory()"
   ]
  },
  {
   "cell_type": "code",
   "execution_count": null,
   "metadata": {},
   "outputs": [],
   "source": []
  },
  {
   "cell_type": "code",
   "execution_count": null,
   "metadata": {},
   "outputs": [],
   "source": []
  }
 ],
 "metadata": {
  "kernelspec": {
   "display_name": "Python 3",
   "language": "python",
   "name": "python3"
  },
  "language_info": {
   "codemirror_mode": {
    "name": "ipython",
    "version": 3
   },
   "file_extension": ".py",
   "mimetype": "text/x-python",
   "name": "python",
   "nbconvert_exporter": "python",
   "pygments_lexer": "ipython3",
   "version": "3.7.3"
  }
 },
 "nbformat": 4,
 "nbformat_minor": 2
}
